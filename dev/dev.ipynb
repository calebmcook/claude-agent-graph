{
 "cells": [
  {
   "cell_type": "code",
   "execution_count": 1,
   "id": "230e00ab",
   "metadata": {
    "execution": {
     "iopub.execute_input": "2025-10-26T06:19:53.116630Z",
     "iopub.status.busy": "2025-10-26T06:19:53.116504Z",
     "iopub.status.idle": "2025-10-26T06:19:53.900907Z",
     "shell.execute_reply": "2025-10-26T06:19:53.900313Z"
    }
   },
   "outputs": [
    {
     "data": {
      "text/plain": [
       "Edge(edge_id='supervisor_to_worker_1', from_node='supervisor', to_node='worker_1', directed=True, created_at=datetime.datetime(2025, 10, 26, 6, 23, 10, 769909, tzinfo=datetime.timezone.utc), properties={})"
      ]
     },
     "execution_count": 1,
     "metadata": {},
     "output_type": "execute_result"
    }
   ],
   "source": [
    "from claude_agent_graph import AgentGraph\n",
    "\n",
    "# Create a graph\n",
    "graph = AgentGraph(name=\"my_network\")\n",
    "\n",
    "# Add nodes (agents)\n",
    "await graph.add_node(\n",
    "    node_id=\"supervisor\",\n",
    "    system_prompt=\"You coordinate worker agents.\",\n",
    "    model=\"claude-sonnet-4-20250514\"\n",
    ")\n",
    "\n",
    "await graph.add_node(\n",
    "    node_id=\"worker_1\",\n",
    "    system_prompt=\"You execute tasks.\",\n",
    "    model=\"claude-sonnet-4-20250514\"\n",
    ")\n",
    "\n",
    "# Add edge (connection)\n",
    "await graph.add_edge(\n",
    "    from_node=\"supervisor\",\n",
    "    to_node=\"worker_1\",\n",
    "    directed=True\n",
    ")"
   ]
  },
  {
   "cell_type": "code",
   "execution_count": 2,
   "id": "7adeec23",
   "metadata": {
    "execution": {
     "iopub.execute_input": "2025-10-26T06:19:53.902350Z",
     "iopub.status.busy": "2025-10-26T06:19:53.902154Z",
     "iopub.status.idle": "2025-10-26T06:19:57.447890Z",
     "shell.execute_reply": "2025-10-26T06:19:57.447401Z"
    }
   },
   "outputs": [
    {
     "data": {
      "text/plain": [
       "Message(message_id='msg_962b1e2ee63844bb', timestamp=datetime.datetime(2025, 10, 26, 6, 23, 21, 365701, tzinfo=datetime.timezone.utc), from_node='supervisor', to_node='worker_1', role=<MessageRole.USER: 'user'>, content='Come up with 3 ideas for a new product.', metadata={})"
      ]
     },
     "execution_count": 2,
     "metadata": {},
     "output_type": "execute_result"
    }
   ],
   "source": [
    "# Send message\n",
    "await graph.send_message(\n",
    "    from_node=\"supervisor\",\n",
    "    to_node=\"worker_1\",\n",
    "    content=\"Come up with 3 ideas for a new product.\"\n",
    ")"
   ]
  },
  {
   "cell_type": "code",
   "execution_count": 3,
   "id": "xfw0y19kkh",
   "metadata": {
    "execution": {
     "iopub.execute_input": "2025-10-26T06:19:57.449160Z",
     "iopub.status.busy": "2025-10-26T06:19:57.449047Z",
     "iopub.status.idle": "2025-10-26T06:19:57.452413Z",
     "shell.execute_reply": "2025-10-26T06:19:57.452041Z"
    }
   },
   "outputs": [
    {
     "name": "stdout",
     "output_type": "stream",
     "text": [
      "=== Worker_1 Status ===\n",
      "Status: active\n",
      "Model: claude-sonnet-4-20250514\n",
      "Is Running: True\n",
      "\n",
      "=== Recent Messages ===\n",
      "\n",
      "[2025-10-26 06:23:21.365701+00:00] supervisor -> worker_1:\n",
      "Content: Come up with 3 ideas for a new product.\n"
     ]
    }
   ],
   "source": [
    "# Get worker_1 status and recent conversation\n",
    "print(\"=== Worker_1 Status ===\")\n",
    "status = graph.get_agent_status(\"worker_1\")\n",
    "print(f\"Status: {status['status']}\")\n",
    "print(f\"Model: {status['model']}\")\n",
    "print(f\"Is Running: {status['is_running']}\")\n",
    "\n",
    "# Get recent messages between supervisor and worker_1\n",
    "print(\"\\n=== Recent Messages ===\")\n",
    "messages = await graph.get_recent_messages(\n",
    "    from_node=\"supervisor\",\n",
    "    to_node=\"worker_1\",\n",
    "    count=5\n",
    ")\n",
    "\n",
    "for msg in messages:\n",
    "    print(f\"\\n[{msg.timestamp}] {msg.from_node} -> {msg.to_node}:\")\n",
    "    print(f\"Content: {msg.content}\")\n",
    "    if msg.metadata:\n",
    "        print(f\"Metadata: {msg.metadata}\")"
   ]
  },
  {
   "cell_type": "code",
   "execution_count": 7,
   "id": "94vvkchwu65",
   "metadata": {},
   "outputs": [
    {
     "name": "stdout",
     "output_type": "stream",
     "text": [
      "=== Worker_1 Internal Examination ===\n",
      "\n",
      "Node ID: worker_1\n",
      "System Prompt: You execute tasks.\n",
      "Model: claude-sonnet-4-20250514\n",
      "Original Prompt: None\n",
      "Effective Prompt: You execute tasks.\n",
      "\n",
      "## Control Hierarchy\n",
      "You are agent 'worker_1'. You report to the following controllers:\n",
      "  - Agent 'supervisor' (supervisor)\n",
      "\n",
      "Follow directives from your controllers while maintaining your specialized role.\n",
      "Prompt Dirty Flag: False\n",
      "Metadata: {}\n",
      "\n",
      "=== Incoming Edges (Messages TO worker_1) ===\n",
      "Sources: ['supervisor']\n",
      "\n",
      "=== Outgoing Edges (Messages FROM worker_1) ===\n",
      "Destinations: []\n",
      "\n",
      "=== All Conversations Involving worker_1 ===\n",
      "Messages from supervisor to worker_1: 1\n",
      "  [2025-10-26 06:23:21.365701+00:00] supervisor -> worker_1: Come up with 3 ideas for a new product....\n",
      "\n",
      "Messages from worker_1 to supervisor: 1\n",
      "  [2025-10-26 06:23:21.365701+00:00] supervisor -> worker_1: Come up with 3 ideas for a new product....\n",
      "\n",
      "=== Control Relationships ===\n",
      "Controllers of worker_1: ['supervisor']\n",
      "Subordinates of worker_1: []\n"
     ]
    }
   ],
   "source": [
    "# Examine worker_1's internal state and conversation history\n",
    "print(\"=== Worker_1 Internal Examination ===\\n\")\n",
    "\n",
    "# Get the worker_1 node object\n",
    "worker_node = graph.get_node(\"worker_1\")\n",
    "print(f\"Node ID: {worker_node.node_id}\")\n",
    "print(f\"System Prompt: {worker_node.system_prompt}\")\n",
    "print(f\"Model: {worker_node.model}\")\n",
    "print(f\"Original Prompt: {worker_node.original_system_prompt}\")\n",
    "print(f\"Effective Prompt: {worker_node.effective_system_prompt}\")\n",
    "print(f\"Prompt Dirty Flag: {worker_node.prompt_dirty}\")\n",
    "print(f\"Metadata: {worker_node.metadata}\")\n",
    "\n",
    "# Get all incoming edges (messages TO worker_1)\n",
    "print(\"\\n=== Incoming Edges (Messages TO worker_1) ===\")\n",
    "incoming = graph.get_neighbors(\"worker_1\", direction=\"incoming\")\n",
    "print(f\"Sources: {incoming}\")\n",
    "\n",
    "# Get all outgoing edges (messages FROM worker_1)\n",
    "print(\"\\n=== Outgoing Edges (Messages FROM worker_1) ===\")\n",
    "outgoing = graph.get_neighbors(\"worker_1\", direction=\"outgoing\")\n",
    "print(f\"Destinations: {outgoing}\")\n",
    "\n",
    "# Get all conversations involving worker_1\n",
    "print(\"\\n=== All Conversations Involving worker_1 ===\")\n",
    "supervisor_to_worker = await graph.get_conversation(\n",
    "    from_node=\"supervisor\",\n",
    "    to_node=\"worker_1\"\n",
    ")\n",
    "print(f\"Messages from supervisor to worker_1: {len(supervisor_to_worker)}\")\n",
    "for msg in supervisor_to_worker:\n",
    "    print(f\"  [{msg.timestamp}] {msg.from_node} -> {msg.to_node}: {msg.content[:50]}...\")\n",
    "\n",
    "# Check if worker_1 has sent any messages back to supervisor\n",
    "worker_to_supervisor = await graph.get_conversation(\n",
    "    from_node=\"worker_1\",\n",
    "    to_node=\"supervisor\"\n",
    ")\n",
    "print(f\"\\nMessages from worker_1 to supervisor: {len(worker_to_supervisor)}\")\n",
    "for msg in worker_to_supervisor:\n",
    "    print(f\"  [{msg.timestamp}] {msg.from_node} -> {msg.to_node}: {msg.content[:50]}...\")\n",
    "\n",
    "# Get all controllers of worker_1 (who supervises it)\n",
    "print(\"\\n=== Control Relationships ===\")\n",
    "controllers = graph.get_controllers(\"worker_1\")\n",
    "print(f\"Controllers of worker_1: {controllers}\")\n",
    "\n",
    "subordinates = graph.get_subordinates(\"worker_1\")\n",
    "print(f\"Subordinates of worker_1: {subordinates}\")"
   ]
  },
  {
   "cell_type": "code",
   "execution_count": null,
   "id": "0040f5c3",
   "metadata": {},
   "outputs": [],
   "source": []
  }
 ],
 "metadata": {
  "kernelspec": {
   "display_name": "venv",
   "language": "python",
   "name": "python3"
  },
  "language_info": {
   "codemirror_mode": {
    "name": "ipython",
    "version": 3
   },
   "file_extension": ".py",
   "mimetype": "text/x-python",
   "name": "python",
   "nbconvert_exporter": "python",
   "pygments_lexer": "ipython3",
   "version": "3.13.3"
  }
 },
 "nbformat": 4,
 "nbformat_minor": 5
}

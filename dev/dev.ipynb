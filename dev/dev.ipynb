{
 "cells": [
  {
   "cell_type": "code",
   "execution_count": 1,
   "id": "230e00ab",
   "metadata": {},
   "outputs": [
    {
     "ename": "TypeError",
     "evalue": "object Node can't be used in 'await' expression",
     "output_type": "error",
     "traceback": [
      "\u001b[31m---------------------------------------------------------------------------\u001b[39m",
      "\u001b[31mTypeError\u001b[39m                                 Traceback (most recent call last)",
      "\u001b[36mCell\u001b[39m\u001b[36m \u001b[39m\u001b[32mIn[1]\u001b[39m\u001b[32m, line 7\u001b[39m\n\u001b[32m      4\u001b[39m graph = AgentGraph(name=\u001b[33m\"\u001b[39m\u001b[33mmy_network\u001b[39m\u001b[33m\"\u001b[39m)\n\u001b[32m      6\u001b[39m \u001b[38;5;66;03m# Add nodes (agents)\u001b[39;00m\n\u001b[32m----> \u001b[39m\u001b[32m7\u001b[39m \u001b[38;5;28;01mawait\u001b[39;00m graph.add_node(\n\u001b[32m      8\u001b[39m     node_id=\u001b[33m\"\u001b[39m\u001b[33msupervisor\u001b[39m\u001b[33m\"\u001b[39m,\n\u001b[32m      9\u001b[39m     system_prompt=\u001b[33m\"\u001b[39m\u001b[33mYou coordinate worker agents.\u001b[39m\u001b[33m\"\u001b[39m,\n\u001b[32m     10\u001b[39m     model=\u001b[33m\"\u001b[39m\u001b[33mclaude-sonnet-4-20250514\u001b[39m\u001b[33m\"\u001b[39m\n\u001b[32m     11\u001b[39m )\n\u001b[32m     13\u001b[39m \u001b[38;5;28;01mawait\u001b[39;00m graph.add_node(\n\u001b[32m     14\u001b[39m     node_id=\u001b[33m\"\u001b[39m\u001b[33mworker_1\u001b[39m\u001b[33m\"\u001b[39m,\n\u001b[32m     15\u001b[39m     system_prompt=\u001b[33m\"\u001b[39m\u001b[33mYou execute tasks.\u001b[39m\u001b[33m\"\u001b[39m,\n\u001b[32m     16\u001b[39m     model=\u001b[33m\"\u001b[39m\u001b[33mclaude-sonnet-4-20250514\u001b[39m\u001b[33m\"\u001b[39m\n\u001b[32m     17\u001b[39m )\n\u001b[32m     19\u001b[39m \u001b[38;5;66;03m# Add edge (connection)\u001b[39;00m\n",
      "\u001b[31mTypeError\u001b[39m: object Node can't be used in 'await' expression"
     ]
    }
   ],
   "source": [
    "from claude_agent_graph import AgentGraph\n",
    "\n",
    "# Create a graph\n",
    "graph = AgentGraph(name=\"my_network\")\n",
    "\n",
    "# Add nodes (agents)\n",
    "await graph.add_node(\n",
    "    node_id=\"supervisor\",\n",
    "    system_prompt=\"You coordinate worker agents.\",\n",
    "    model=\"claude-sonnet-4-20250514\"\n",
    ")\n",
    "\n",
    "await graph.add_node(\n",
    "    node_id=\"worker_1\",\n",
    "    system_prompt=\"You execute tasks.\",\n",
    "    model=\"claude-sonnet-4-20250514\"\n",
    ")\n",
    "\n",
    "# Add edge (connection)\n",
    "await graph.add_edge(\n",
    "    from_node=\"supervisor\",\n",
    "    to_node=\"worker_1\",\n",
    "    directed=True\n",
    ")"
   ]
  },
  {
   "cell_type": "code",
   "execution_count": null,
   "id": "7adeec23",
   "metadata": {},
   "outputs": [],
   "source": [
    "\n",
    "# Send message\n",
    "# await graph.send_message(\n",
    "#     from_node=\"supervisor\",\n",
    "#     to_node=\"worker_1\",\n",
    "#     content=\"Analyze the data\"\n",
    "# )"
   ]
  }
 ],
 "metadata": {
  "kernelspec": {
   "display_name": ".venv",
   "language": "python",
   "name": "python3"
  },
  "language_info": {
   "codemirror_mode": {
    "name": "ipython",
    "version": 3
   },
   "file_extension": ".py",
   "mimetype": "text/x-python",
   "name": "python",
   "nbconvert_exporter": "python",
   "pygments_lexer": "ipython3",
   "version": "3.13.3"
  }
 },
 "nbformat": 4,
 "nbformat_minor": 5
}
